{
 "cells": [
  {
   "cell_type": "code",
   "execution_count": 7,
   "metadata": {
    "collapsed": true
   },
   "outputs": [],
   "source": [
    "# Imports definition\n",
    "import pandas as pd\n",
    "from numpy.linalg import norm as vector_norm\n",
    "import numpy as np\n",
    "import math\n",
    "from sklearn.linear_model import LinearRegression\n",
    "from sklearn.tree import DecisionTreeRegressor"
   ]
  },
  {
   "cell_type": "code",
   "execution_count": 8,
   "outputs": [],
   "source": [
    "train_var = {\n",
    "    \"y1\": [1, 1, 0, 1, 2, 1, 2, 0],\n",
    "    \"y2\": [1, 1, 2, 2, 0, 1, 0, 2],\n",
    "    \"y3\": [0, 5, 4, 3, 7, 1, 2, 9],\n",
    "    \"output\": [1, 3, 2, 0, 6, 4, 5, 7]\n",
    "}\n",
    "\n",
    "test_var = {\n",
    "    \"y1\": [2, 0],\n",
    "    \"y2\": [0, 2],\n",
    "    \"y3\": [0, 1],\n",
    "    \"output\": [2, 4]\n",
    "}\n",
    "\n",
    "df_train = pd.DataFrame.from_dict(train_var)\n",
    "df_test = pd.DataFrame.from_dict(test_var)"
   ],
   "metadata": {
    "collapsed": false,
    "pycharm": {
     "name": "#%%\n"
    }
   }
  },
  {
   "cell_type": "code",
   "execution_count": 9,
   "outputs": [],
   "source": [
    "# Applies basis function to dataset to normalize it's values\n",
    "for index, row in df_train.iterrows():\n",
    "\n",
    "    # Calculates vector norm\n",
    "    vector = [row[\"y1\"], row[\"y2\"], row[\"y3\"]]\n",
    "    norm = vector_norm(vector)\n",
    "\n",
    "    # Updates row's values according to basis function\n",
    "    row[\"y1\"] = norm ** 1\n",
    "    row[\"y2\"] = norm ** 2\n",
    "    row[\"y3\"] = norm ** 3\n",
    "\n",
    "# Applies basis function to dataset to normalize it's values\n",
    "for index, row in df_test.iterrows():\n",
    "\n",
    "    # Calculates vector norm\n",
    "    vector = [row[\"y1\"], row[\"y2\"], row[\"y3\"]]\n",
    "    norm = vector_norm(vector)\n",
    "\n",
    "    # Updates row's values according to basis function\n",
    "    row[\"y1\"] = norm ** 1\n",
    "    row[\"y2\"] = norm ** 2\n",
    "    row[\"y3\"] = norm ** 3"
   ],
   "metadata": {
    "collapsed": false,
    "pycharm": {
     "name": "#%%\n"
    }
   }
  },
  {
   "cell_type": "code",
   "execution_count": 10,
   "outputs": [],
   "source": [
    "# Gathers vars\n",
    "X_train = df_train.drop(\"output\", axis=1).to_numpy()\n",
    "y_train = df_train[\"output\"].to_numpy()\n",
    "\n",
    "X_test = df_test.drop(\"output\", axis=1).to_numpy()\n",
    "y_test = df_test[\"output\"].to_numpy()"
   ],
   "metadata": {
    "collapsed": false,
    "pycharm": {
     "name": "#%%\n"
    }
   }
  },
  {
   "cell_type": "code",
   "execution_count": 13,
   "outputs": [
    {
     "name": "stdout",
     "output_type": "stream",
     "text": [
      "[0.21965404 0.91215268]\n",
      "2.5203603705741218\n"
     ]
    }
   ],
   "source": [
    "# Creates a linear regression model (we wont need a polynomial because the data has been transformed) and trains it\n",
    "reg = LinearRegression()\n",
    "reg.fit(X_train, y_train)\n",
    "\n",
    "# Predicts values and calculates RMSE\n",
    "predictions = reg.predict(X_test)\n",
    "error = math.sqrt(np.square(np.subtract(y_test, predictions)).mean())\n",
    "print(error)\n"
   ],
   "metadata": {
    "collapsed": false,
    "pycharm": {
     "name": "#%%\n"
    }
   }
  }
 ],
 "metadata": {
  "kernelspec": {
   "display_name": "Python 3",
   "language": "python",
   "name": "python3"
  },
  "language_info": {
   "codemirror_mode": {
    "name": "ipython",
    "version": 2
   },
   "file_extension": ".py",
   "mimetype": "text/x-python",
   "name": "python",
   "nbconvert_exporter": "python",
   "pygments_lexer": "ipython2",
   "version": "2.7.6"
  }
 },
 "nbformat": 4,
 "nbformat_minor": 0
}