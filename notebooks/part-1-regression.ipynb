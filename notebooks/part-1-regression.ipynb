{
 "cells": [
  {
   "cell_type": "code",
   "execution_count": 176,
   "metadata": {
    "collapsed": true
   },
   "outputs": [],
   "source": [
    "# Imports definition\n",
    "import pandas as pd\n",
    "from numpy.linalg import norm as vector_norm\n",
    "import numpy as np\n",
    "import math\n",
    "from sklearn.linear_model import LinearRegression"
   ]
  },
  {
   "cell_type": "code",
   "execution_count": 177,
   "outputs": [],
   "source": [
    "train_var = {\n",
    "    \"y0\": [1.0, 1.0, 1.0, 1.0, 1.0, 1.0, 1.0, 1.0],  # Does not belong in the table\n",
    "    \"y1\": [1.0, 1.0, 0.0, 1.0, 2.0, 1.0, 2.0, 0.0],\n",
    "    \"y2\": [1.0, 1.0, 2.0, 2.0, 0.0, 1.0, 0.0, 2.0],\n",
    "    \"y3\": [0.0, 5.0, 4.0, 3.0, 7.0, 1.0, 2.0, 9.0],\n",
    "    \"output\": [1.0, 3.0, 2.0, 0.0, 6.0, 4.0, 5.0, 7.0]\n",
    "}\n",
    "\n",
    "test_var = {\n",
    "    \"y0\": [1.0, 1.0],  # Does not belong in the table\n",
    "    \"y1\": [2.0, 0.0],\n",
    "    \"y2\": [0.0, 2.0],\n",
    "    \"y3\": [0.0, 1.0],\n",
    "    \"output\": [2.0, 4.0]\n",
    "}\n",
    "\n",
    "df_train = pd.DataFrame.from_dict(train_var)\n",
    "df_test = pd.DataFrame.from_dict(test_var)"
   ],
   "metadata": {
    "collapsed": false,
    "pycharm": {
     "name": "#%%\n"
    }
   }
  },
  {
   "cell_type": "code",
   "execution_count": 178,
   "outputs": [],
   "source": [
    "# Applies basis function to dataset to normalize it's values\n",
    "for index, row in df_train.iterrows():\n",
    "\n",
    "    # Calculates vector norm\n",
    "    vector = [row[\"y1\"], row[\"y2\"], row[\"y3\"]]\n",
    "    norm = vector_norm(vector)\n",
    "\n",
    "    # Updates row's values according to basis function\n",
    "    row[\"y1\"] = norm ** 1\n",
    "    row[\"y2\"] = norm ** 2\n",
    "    row[\"y3\"] = norm ** 3\n",
    "\n",
    "# Applies basis function to dataset to normalize it's values\n",
    "for index, row in df_test.iterrows():\n",
    "\n",
    "    # Calculates vector norm\n",
    "    vector = [row[\"y1\"], row[\"y2\"], row[\"y3\"]]\n",
    "    norm = vector_norm(vector)\n",
    "\n",
    "    # Updates row's values according to basis function\n",
    "    row[\"y1\"] = norm ** 1\n",
    "    row[\"y2\"] = norm ** 2\n",
    "    row[\"y3\"] = norm ** 3"
   ],
   "metadata": {
    "collapsed": false,
    "pycharm": {
     "name": "#%%\n"
    }
   }
  },
  {
   "cell_type": "code",
   "execution_count": 179,
   "outputs": [],
   "source": [
    "# Gathers vars\n",
    "X_train = df_train.drop(\"output\", axis=1).to_numpy()\n",
    "y_train = df_train[\"output\"].to_numpy()\n",
    "\n",
    "X_test = df_test.drop(\"output\", axis=1).to_numpy()\n",
    "y_test = df_test[\"output\"].to_numpy()"
   ],
   "metadata": {
    "collapsed": false,
    "pycharm": {
     "name": "#%%\n"
    }
   }
  },
  {
   "cell_type": "code",
   "execution_count": 180,
   "outputs": [
    {
     "name": "stdout",
     "output_type": "stream",
     "text": [
      "predictions: [2.45360697 2.35072931]\n",
      "1.2095150071840008\n"
     ]
    }
   ],
   "source": [
    "# Creates a linear regression model (we wont need a polynomial because the data has been transformed) and trains it\n",
    "reg = LinearRegression()\n",
    "reg.fit(X_train, y_train)\n",
    "\n",
    "# Predicts values and calculates RMSE\n",
    "predictions = reg.predict(X_test)\n",
    "print(f\"predictions: {predictions}\")\n",
    "error = math.sqrt(np.square(np.subtract(y_test, predictions)).mean())\n",
    "print(error)"
   ],
   "metadata": {
    "collapsed": false,
    "pycharm": {
     "name": "#%%\n"
    }
   }
  },
  {
   "cell_type": "code",
   "execution_count": 181,
   "outputs": [
    {
     "name": "stdout",
     "output_type": "stream",
     "text": [
      "X: \n",
      " [[  1.           1.41421356   2.           2.82842712]\n",
      " [  1.           5.19615242  27.         140.29611541]\n",
      " [  1.           4.47213595  20.          89.4427191 ]\n",
      " [  1.           3.74165739  14.          52.38320341]\n",
      " [  1.           7.28010989  53.         385.84582413]\n",
      " [  1.           1.73205081   3.           5.19615242]\n",
      " [  1.           2.82842712   8.          22.627417  ]\n",
      " [  1.           9.21954446  85.         783.66127887]]\n",
      "Z: \n",
      " [1. 3. 2. 0. 6. 4. 5. 7.]\n",
      "Xt: \n",
      " [[  1.           1.           1.           1.           1.\n",
      "    1.           1.           1.        ]\n",
      " [  1.41421356   5.19615242   4.47213595   3.74165739   7.28010989\n",
      "    1.73205081   2.82842712   9.21954446]\n",
      " [  2.          27.          20.          14.          53.\n",
      "    3.           8.          85.        ]\n",
      " [  2.82842712 140.29611541  89.4427191   52.38320341 385.84582413\n",
      "    5.19615242  22.627417   783.66127887]]\n",
      "Xt.X: \n",
      " [[8.00000000e+00 3.58842916e+01 2.12000000e+02 1.48228114e+03]\n",
      " [3.58842916e+01 2.12000000e+02 1.48228114e+03 1.14360000e+04]\n",
      " [2.12000000e+02 1.48228114e+03 1.14360000e+04 9.35735164e+04]\n",
      " [1.48228114e+03 1.14360000e+04 9.35735164e+04 7.93976000e+05]]\n",
      "(Xt.X)^-1: \n",
      " [[ 8.19551659e+00 -6.23130180e+00  1.30493618e+00 -7.93403820e-02]\n",
      " [-6.23130180e+00  5.07809653e+00 -1.10435916e+00  6.86446433e-02]\n",
      " [ 1.30493618e+00 -1.10435916e+00  2.47213974e-01 -1.56648460e-02]\n",
      " [-7.93403820e-02  6.86446433e-02 -1.56648460e-02  1.00683060e-03]]\n",
      "(Xt.X)^-1.Xt: \n",
      " [[4.67527223e+03 2.13876746e+05 1.36987735e+05 8.07569011e+04\n",
      "  5.83437229e+05 8.40831214e+03 3.53456895e+04 1.17996517e+06]\n",
      " [3.56461524e+04 1.64558544e+06 1.05349654e+06 6.20635366e+05\n",
      "  4.49267301e+06 6.42731216e+04 2.71260901e+05 9.08993471e+06]\n",
      " [2.89846134e+05 1.34446870e+07 8.60503070e+06 5.06754273e+06\n",
      "  3.67220617e+07 5.23309640e+05 2.21321950e+06 7.43158795e+07]\n",
      " [2.45050551e+06 1.13979139e+08 7.29394683e+07 4.29453074e+07\n",
      "  3.11396458e+08 4.42763088e+06 1.87480423e+07 6.30268913e+08]]\n",
      "(Xt.X)^-1.Xt.Z: \n",
      " [1.28910222e+07 9.92783736e+07 8.11536831e+08 6.88197874e+09]\n",
      "[1. 2. 4. 8.]\n",
      "prod1: 58513424986.34059 | prod2: 81235429743.08864\n"
     ]
    }
   ],
   "source": [
    "# Calculates W\n",
    "print(\"X: \\n\", X_train)\n",
    "print(\"Z: \\n\", y_train)\n",
    "xt = np.matrix.transpose(X_train)\n",
    "print(\"Xt: \\n\", xt)\n",
    "m1 = np.matmul(xt, X_train)\n",
    "print(\"Xt.X: \\n\", m1)\n",
    "inverse = np.linalg.inv(m1)\n",
    "print(f\"(Xt.X)^-1: \\n\", inverse)\n",
    "m2 = np.matmul(m1, xt)\n",
    "print(f\"(Xt.X)^-1.Xt: \\n\", m2)\n",
    "w = np.matmul(m2, y_train)\n",
    "print(f\"(Xt.X)^-1.Xt.Z: \\n\", w)\n",
    "\n",
    "# Predicts y\n",
    "print(X_test[0])\n",
    "prod_1 = np.dot(w, X_test[0])\n",
    "prod_2 = np.dot(w, X_test[1])\n",
    "print(f\"prod1: {prod_1} | prod2: {prod_2}\")"
   ],
   "metadata": {
    "collapsed": false,
    "pycharm": {
     "name": "#%%\n"
    }
   }
  }
 ],
 "metadata": {
  "kernelspec": {
   "display_name": "Python 3",
   "language": "python",
   "name": "python3"
  },
  "language_info": {
   "codemirror_mode": {
    "name": "ipython",
    "version": 2
   },
   "file_extension": ".py",
   "mimetype": "text/x-python",
   "name": "python",
   "nbconvert_exporter": "python",
   "pygments_lexer": "ipython2",
   "version": "2.7.6"
  }
 },
 "nbformat": 4,
 "nbformat_minor": 0
}