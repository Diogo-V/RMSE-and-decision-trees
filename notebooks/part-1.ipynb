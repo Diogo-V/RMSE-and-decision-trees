{
 "cells": [
  {
   "cell_type": "code",
   "execution_count": 3,
   "metadata": {
    "collapsed": true
   },
   "outputs": [],
   "source": [
    "# Imports definition\n",
    "import pandas as pd"
   ]
  },
  {
   "cell_type": "code",
   "execution_count": 4,
   "outputs": [],
   "source": [
    "train_var = {\n",
    "    \"y1\": [1, 1, 0, 1, 2, 1, 2, 0],\n",
    "    \"y2\": [1, 1, 2, 2, 0, 1, 0, 2],\n",
    "    \"y3\": [0, 5, 4, 3, 7, 1, 2, 9],\n",
    "    \"output\": [1, 3, 2, 0, 6, 4, 5, 7]\n",
    "}\n",
    "\n",
    "test_var = {\n",
    "    \"y1\": [2, 0],\n",
    "    \"y2\": [0, 2],\n",
    "    \"y3\": [0, 1],\n",
    "    \"output\": [2, 4]\n",
    "}\n",
    "\n",
    "df_train = pd.DataFrame.from_dict(train_var)\n",
    "df_test = pd.DataFrame.from_dict(test_var)\n"
   ],
   "metadata": {
    "collapsed": false,
    "pycharm": {
     "name": "#%%\n"
    }
   }
  }
 ],
 "metadata": {
  "kernelspec": {
   "display_name": "Python 3",
   "language": "python",
   "name": "python3"
  },
  "language_info": {
   "codemirror_mode": {
    "name": "ipython",
    "version": 2
   },
   "file_extension": ".py",
   "mimetype": "text/x-python",
   "name": "python",
   "nbconvert_exporter": "python",
   "pygments_lexer": "ipython2",
   "version": "2.7.6"
  }
 },
 "nbformat": 4,
 "nbformat_minor": 0
}