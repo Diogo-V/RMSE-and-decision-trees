{
 "cells": [
  {
   "cell_type": "code",
   "execution_count": 2,
   "metadata": {
    "collapsed": true
   },
   "outputs": [],
   "source": [
    "# Imports definition\n",
    "import pandas as pd\n",
    "from sklearn.tree import DecisionTreeClassifier, plot_tree\n",
    "from scipy.stats import entropy"
   ]
  },
  {
   "cell_type": "code",
   "execution_count": 3,
   "outputs": [],
   "source": [
    "train_var = {\n",
    "    \"y1\": [1, 1, 0, 1, 2, 1, 2, 0],\n",
    "    \"y2\": [1, 1, 2, 2, 0, 1, 0, 2],\n",
    "    \"y3\": [0, 5, 4, 3, 7, 1, 2, 9],\n",
    "    \"output\": [1, 3, 2, 0, 6, 4, 5, 7]\n",
    "}\n",
    "\n",
    "test_var = {\n",
    "    \"y1\": [2, 0],\n",
    "    \"y2\": [0, 2],\n",
    "    \"y3\": [0, 1],\n",
    "    \"output\": [2, 4]\n",
    "}\n",
    "\n",
    "df_train = pd.DataFrame.from_dict(train_var)\n",
    "df_test = pd.DataFrame.from_dict(test_var)"
   ],
   "metadata": {
    "collapsed": false,
    "pycharm": {
     "name": "#%%\n"
    }
   }
  },
  {
   "cell_type": "code",
   "execution_count": 4,
   "outputs": [],
   "source": [
    "# Performs an equal-depth descritization on y3 and applies function to output target\n",
    "for index, row in df_train.iterrows():\n",
    "\n",
    "    # If y3 is lower than 2, then we use 0, else we use 1\n",
    "    # This method assures that we have an equal number of 0's and 1's in y3\n",
    "    row[\"y3\"] = 1 if row[\"y3\"] > 2 else 0\n",
    "\n",
    "    # Applies function to output column\n",
    "    row[\"output\"] = 1 if row[\"output\"] >= 4 else 0\n",
    "\n",
    "# Performs an equal-depth descritization on y3 and applies function to output target\n",
    "for index, row in df_test.iterrows():\n",
    "\n",
    "    # If y3 is lower than 2, then we use 0, else we use 1\n",
    "    # This method assures that we have an equal number of 0's and 1's in y3\n",
    "    row[\"y3\"] = 1 if row[\"y3\"] > 2 else 0\n",
    "\n",
    "    # Applies function to output column\n",
    "    row[\"output\"] = 1 if row[\"output\"] >= 4 else 0"
   ],
   "metadata": {
    "collapsed": false,
    "pycharm": {
     "name": "#%%\n"
    }
   }
  },
  {
   "cell_type": "code",
   "execution_count": 5,
   "outputs": [],
   "source": [
    "# Gathers vars\n",
    "X_train = df_train.drop(\"output\", axis=1).to_numpy()\n",
    "y_train = df_train[\"output\"].to_numpy()\n",
    "\n",
    "X_test = df_test.drop(\"output\", axis=1).to_numpy()\n",
    "y_test = df_test[\"output\"].to_numpy()"
   ],
   "metadata": {
    "collapsed": false,
    "pycharm": {
     "name": "#%%\n"
    }
   }
  },
  {
   "cell_type": "code",
   "execution_count": 16,
   "outputs": [
    {
     "name": "stdout",
     "output_type": "stream",
     "text": [
      "Hy1: 0.6556390622295665 IGhy1: 0.34436093777043353\n",
      "Hy2: 0.6887218755408671 IGhy2: 0.31127812445913294\n",
      "Hy3: 1.0 IGhy3: 0.0\n",
      "H0y2: 1.0 IGh0y2: 0.0\n",
      "H0y2: 0.6887218755408671 IGh1y2: 0.31127812445913294\n",
      "H0y2: 0.6887218755408671 IGh1y2: 0.33333333333333337\n"
     ]
    }
   ],
   "source": [
    "hy1 = 0.25*entropy([1/2, 1/2], base=2) + 1/2*entropy([3/4, 1/4], base=2) + 1/4*entropy([1], base=2)\n",
    "hy2 = 0.25*entropy([1], base=2) + 3/8*entropy([2/3, 1/3], base=2) + 3/8*entropy([2/3, 1/3], base=2)\n",
    "hy3 = 0.5*entropy([1/2, 1/2], base=2) + 0.5*entropy([1/2, 1/2], base=2)\n",
    "print('Hy1:', hy1, 'IGhy1:', 1-hy1)\n",
    "print('Hy2:', hy2, 'IGhy2:', 1-hy2)\n",
    "print('Hy3:', hy3, 'IGhy3:', 1-hy3)\n",
    "\n",
    "h0y2 = 1*entropy([1/2, 1/2], base=2)\n",
    "print('H0y2:', h0y2, 'IGh0y2:', 1-h0y2)\n",
    "\n",
    "h1y2 = 3/4*entropy([2/3, 1/3], base=2)\n",
    "print('H0y2:', h1y2, 'IGh1y2:', 1-h1y2)\n",
    "\n",
    "h1y2y3 = 2/3*entropy([1/2, 1/2], base=2)\n",
    "print('H0y2:', h1y2, 'IGh1y2:', 1-h1y2y3)\n"
   ],
   "metadata": {
    "collapsed": false,
    "pycharm": {
     "name": "#%%\n"
    }
   }
  },
  {
   "cell_type": "code",
   "execution_count": 7,
   "outputs": [
    {
     "name": "stdout",
     "output_type": "stream",
     "text": [
      "0.0\n"
     ]
    }
   ],
   "source": [
    "# Creates a decision tree and trains it\n",
    "tree = DecisionTreeClassifier(criterion=\"entropy\")\n",
    "tree.fit(X_train, y_train)\n",
    "\n",
    "# Predicts values and calculates accuracy\n",
    "accuracy = tree.score(X_test, y_test)\n",
    "print(accuracy)"
   ],
   "metadata": {
    "collapsed": false,
    "pycharm": {
     "name": "#%%\n"
    }
   }
  },
  {
   "cell_type": "code",
   "execution_count": 8,
   "outputs": [
    {
     "data": {
      "text/plain": "[Text(200.88000000000002, 190.26, 'X[0] <= 1.5\\nentropy = 1.0\\nsamples = 8\\nvalue = [4, 4]'),\n Text(133.92000000000002, 135.9, 'X[0] <= 0.5\\nentropy = 0.918\\nsamples = 6\\nvalue = [4, 2]'),\n Text(66.96000000000001, 81.53999999999999, 'entropy = 1.0\\nsamples = 2\\nvalue = [1, 1]'),\n Text(200.88000000000002, 81.53999999999999, 'X[2] <= 0.5\\nentropy = 0.811\\nsamples = 4\\nvalue = [3, 1]'),\n Text(133.92000000000002, 27.180000000000007, 'entropy = 1.0\\nsamples = 2\\nvalue = [1, 1]'),\n Text(267.84000000000003, 27.180000000000007, 'entropy = 0.0\\nsamples = 2\\nvalue = [2, 0]'),\n Text(267.84000000000003, 135.9, 'entropy = 0.0\\nsamples = 2\\nvalue = [0, 2]')]"
     },
     "execution_count": 8,
     "metadata": {},
     "output_type": "execute_result"
    },
    {
     "data": {
      "text/plain": "<Figure size 432x288 with 1 Axes>",
      "image/png": "[encoded data removed]"
     },
     "metadata": {
      "needs_background": "light"
     },
     "output_type": "display_data"
    }
   ],
   "source": [
    "# Used to visualize classifications\n",
    "plot_tree(tree)\n"
   ],
   "metadata": {
    "collapsed": false,
    "pycharm": {
     "name": "#%%\n"
    }
   }
  }
 ],
 "metadata": {
  "kernelspec": {
   "display_name": "Python 3",
   "language": "python",
   "name": "python3"
  },
  "language_info": {
   "codemirror_mode": {
    "name": "ipython",
    "version": 2
   },
   "file_extension": ".py",
   "mimetype": "text/x-python",
   "name": "python",
   "nbconvert_exporter": "python",
   "pygments_lexer": "ipython2",
   "version": "2.7.6"
  }
 },
 "nbformat": 4,
 "nbformat_minor": 0
}