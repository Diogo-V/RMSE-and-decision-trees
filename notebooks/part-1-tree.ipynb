{
 "cells": [
  {
   "cell_type": "code",
   "execution_count": 52,
   "metadata": {
    "collapsed": true
   },
   "outputs": [],
   "source": [
    "# Imports definition\n",
    "import pandas as pd\n",
    "from sklearn.tree import DecisionTreeClassifier, plot_tree"
   ]
  },
  {
   "cell_type": "code",
   "execution_count": 53,
   "outputs": [],
   "source": [
    "train_var = {\n",
    "    \"y1\": [1, 1, 0, 1, 2, 1, 2, 0],\n",
    "    \"y2\": [1, 1, 2, 2, 0, 1, 0, 2],\n",
    "    \"y3\": [0, 5, 4, 3, 7, 1, 2, 9],\n",
    "    \"output\": [1, 3, 2, 0, 6, 4, 5, 7]\n",
    "}\n",
    "\n",
    "test_var = {\n",
    "    \"y1\": [2, 0],\n",
    "    \"y2\": [0, 2],\n",
    "    \"y3\": [0, 1],\n",
    "    \"output\": [2, 4]\n",
    "}\n",
    "\n",
    "df_train = pd.DataFrame.from_dict(train_var)\n",
    "df_test = pd.DataFrame.from_dict(test_var)"
   ],
   "metadata": {
    "collapsed": false,
    "pycharm": {
     "name": "#%%\n"
    }
   }
  },
  {
   "cell_type": "code",
   "execution_count": 54,
   "outputs": [],
   "source": [
    "# Performs an equal-depth descritization on y3 and applies function to output target\n",
    "for index, row in df_train.iterrows():\n",
    "\n",
    "    # If y3 is lower or equal to 4, then we use 0, else we use 1\n",
    "    # This method assures that we have an equal number of 0's and 1's in y3\n",
    "    row[\"y3\"] = 1 if row[\"y3\"] >= 4 else 0\n",
    "\n",
    "    # Applies function to output column\n",
    "    row[\"output\"] = 1 if row[\"output\"] >= 4 else 0\n",
    "\n",
    "# Performs an equal-depth descritization on y3 and applies function to output target\n",
    "for index, row in df_test.iterrows():\n",
    "\n",
    "    # If y3 is lower or equal to 4, then we use 0, else we use 1\n",
    "    # This method assures that we have an equal number of 0's and 1's in y3\n",
    "    row[\"y3\"] = 1 if row[\"y3\"] > 4 else 0\n",
    "\n",
    "    # Applies function to output column\n",
    "    row[\"output\"] = 1 if row[\"output\"] >= 4 else 0"
   ],
   "metadata": {
    "collapsed": false,
    "pycharm": {
     "name": "#%%\n"
    }
   }
  },
  {
   "cell_type": "code",
   "execution_count": 55,
   "outputs": [],
   "source": [
    "# Gathers vars\n",
    "X_train = df_train.drop(\"output\", axis=1).to_numpy()\n",
    "y_train = df_train[\"output\"].to_numpy()\n",
    "\n",
    "X_test = df_test.drop(\"output\", axis=1).to_numpy()\n",
    "y_test = df_test[\"output\"].to_numpy()"
   ],
   "metadata": {
    "collapsed": false,
    "pycharm": {
     "name": "#%%\n"
    }
   }
  },
  {
   "cell_type": "code",
   "execution_count": 56,
   "outputs": [
    {
     "name": "stdout",
     "output_type": "stream",
     "text": [
      "0.0\n"
     ]
    }
   ],
   "source": [
    "# Creates a decision tree and trains it\n",
    "tree = DecisionTreeClassifier()\n",
    "tree.fit(X_train, y_train)\n",
    "\n",
    "# Predicts values and calculates accuracy\n",
    "accuracy = tree.score(X_test, y_test)\n",
    "print(accuracy)"
   ],
   "metadata": {
    "collapsed": false,
    "pycharm": {
     "name": "#%%\n"
    }
   }
  },
  {
   "cell_type": "code",
   "execution_count": 57,
   "outputs": [
    {
     "data": {
      "text/plain": "[Text(200.88000000000002, 195.696, 'X[0] <= 1.5\\ngini = 0.5\\nsamples = 8\\nvalue = [4, 4]'),\n Text(133.92000000000002, 152.208, 'X[0] <= 0.5\\ngini = 0.444\\nsamples = 6\\nvalue = [4, 2]'),\n Text(66.96000000000001, 108.72, 'gini = 0.5\\nsamples = 2\\nvalue = [1, 1]'),\n Text(200.88000000000002, 108.72, 'X[1] <= 1.5\\ngini = 0.375\\nsamples = 4\\nvalue = [3, 1]'),\n Text(133.92000000000002, 65.232, 'X[2] <= 0.5\\ngini = 0.444\\nsamples = 3\\nvalue = [2, 1]'),\n Text(66.96000000000001, 21.744, 'gini = 0.5\\nsamples = 2\\nvalue = [1, 1]'),\n Text(200.88000000000002, 21.744, 'gini = 0.0\\nsamples = 1\\nvalue = [1, 0]'),\n Text(267.84000000000003, 65.232, 'gini = 0.0\\nsamples = 1\\nvalue = [1, 0]'),\n Text(267.84000000000003, 152.208, 'gini = 0.0\\nsamples = 2\\nvalue = [0, 2]')]"
     },
     "execution_count": 57,
     "metadata": {},
     "output_type": "execute_result"
    },
    {
     "data": {
      "text/plain": "<Figure size 432x288 with 1 Axes>",
      "image/png": "[encoded data removed]"
     },
     "metadata": {
      "needs_background": "light"
     },
     "output_type": "display_data"
    }
   ],
   "source": [
    "# Used to visualize classifications\n",
    "plot_tree(tree)\n"
   ],
   "metadata": {
    "collapsed": false,
    "pycharm": {
     "name": "#%%\n"
    }
   }
  }
 ],
 "metadata": {
  "kernelspec": {
   "display_name": "Python 3",
   "language": "python",
   "name": "python3"
  },
  "language_info": {
   "codemirror_mode": {
    "name": "ipython",
    "version": 2
   },
   "file_extension": ".py",
   "mimetype": "text/x-python",
   "name": "python",
   "nbconvert_exporter": "python",
   "pygments_lexer": "ipython2",
   "version": "2.7.6"
  }
 },
 "nbformat": 4,
 "nbformat_minor": 0
}